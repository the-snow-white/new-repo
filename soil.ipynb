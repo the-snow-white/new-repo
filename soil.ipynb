{
 "cells": [
  {
   "cell_type": "code",
   "execution_count": 1,
   "id": "624d03d7",
   "metadata": {},
   "outputs": [],
   "source": [
    "import os\n",
    "import zipfile"
   ]
  },
  {
   "cell_type": "code",
   "execution_count": 2,
   "id": "34e1a764",
   "metadata": {},
   "outputs": [
    {
     "name": "stdout",
     "output_type": "stream",
     "text": [
      "total training cabbage images: 7\n",
      "total training carrot images: 7\n",
      "total training maize images: 8\n"
     ]
    }
   ],
   "source": [
    "cabbage_dir = os.path.join('/home/babyhack/Documents/Project/model/Project/pro/pro-test/cabbage')\n",
    "carrot_dir = os.path.join('/home/babyhack/Documents/Project/model/Project/pro/pro-test/carrot')\n",
    "maize_dir = os.path.join('/home/babyhack/Documents/Project/model/Project/pro/pro-test/maize')\n",
    "\n",
    "print('total training cabbage images:', len(os.listdir(cabbage_dir)))\n",
    "print('total training carrot images:', len(os.listdir(carrot_dir)))\n",
    "print('total training maize images:', len(os.listdir(maize_dir)))"
   ]
  },
  {
   "cell_type": "code",
   "execution_count": 3,
   "id": "79d281b0",
   "metadata": {},
   "outputs": [],
   "source": [
    "# %matplotlib inline\n",
    "\n",
    "# import matplotlib.pyplot as plt\n",
    "# import matplotlib.image as mpimg\n",
    "\n",
    "# pic_index = 2\n",
    "\n",
    "# next_cabbage = [os.path.join(cabbage_dir, fname) \n",
    "#                 for fname in cabbage_files[pic_index-2:pic_index]]\n",
    "# carrot_paper = [os.path.join(carrot_dir, fname) \n",
    "#                 for fname in carrot_files[pic_index-2:pic_index]]\n",
    "# next_scissors = [os.path.join(maize_dir, fname) \n",
    "#                 for fname in maize_files[pic_index-2:pic_index]]\n",
    "\n",
    "# for i, img_path in enumerate(next_rock+next_paper+next_scissors):\n",
    "#   #print(img_path)\n",
    "#   img = mpimg.imread(img_path)\n",
    "#   plt.imshow(img)\n",
    "#   plt.axis('Off')\n",
    "#   plt.show()"
   ]
  },
  {
   "cell_type": "code",
   "execution_count": 4,
   "id": "5646b3a6",
   "metadata": {},
   "outputs": [
    {
     "name": "stdout",
     "output_type": "stream",
     "text": [
      "<keras_preprocessing.image.image_data_generator.ImageDataGenerator object at 0x7f766cf117c0>\n"
     ]
    }
   ],
   "source": [
    "import tensorflow as tf\n",
    "import keras_preprocessing\n",
    "from keras_preprocessing import image\n",
    "from keras_preprocessing.image import ImageDataGenerator\n",
    "\n",
    "TRAINING_DIR = \"/home/babyhack/Documents/Project/model/Project/pro/pro-test\"\n",
    "training_datagen = ImageDataGenerator(\n",
    "      rescale = 1./255,\n",
    "\t    rotation_range=40,\n",
    "      width_shift_range=0.2,\n",
    "      height_shift_range=0.2,\n",
    "      shear_range=0.2,\n",
    "      zoom_range=0.2,\n",
    "      horizontal_flip=True,\n",
    "      fill_mode='nearest')\n",
    "print(training_datagen);"
   ]
  },
  {
   "cell_type": "code",
   "execution_count": 5,
   "id": "36498ff4",
   "metadata": {},
   "outputs": [],
   "source": [
    "VALIDATION_DIR = \"/home/babyhack/Documents/Project/model/Project/pro/pro-val -set\"\n",
    "validation_datagen = ImageDataGenerator(rescale = 1./255)"
   ]
  },
  {
   "cell_type": "code",
   "execution_count": 6,
   "id": "a73e39c9",
   "metadata": {},
   "outputs": [
    {
     "name": "stdout",
     "output_type": "stream",
     "text": [
      "Found 22 images belonging to 3 classes.\n"
     ]
    }
   ],
   "source": [
    "train_generator = training_datagen.flow_from_directory(\n",
    "\tTRAINING_DIR,\n",
    "\ttarget_size=(150,150),\n",
    "\tclass_mode='categorical',\n",
    "  batch_size=126\n",
    ")"
   ]
  },
  {
   "cell_type": "code",
   "execution_count": 7,
   "id": "4e7a38fa",
   "metadata": {},
   "outputs": [
    {
     "name": "stdout",
     "output_type": "stream",
     "text": [
      "Found 6 images belonging to 3 classes.\n"
     ]
    }
   ],
   "source": [
    "validation_generator = validation_datagen.flow_from_directory(\n",
    "\tVALIDATION_DIR,\n",
    "\ttarget_size=(150,150),\n",
    "\tclass_mode='categorical',\n",
    "  batch_size=126\n",
    ")"
   ]
  },
  {
   "cell_type": "code",
   "execution_count": 8,
   "id": "3fe5cb92",
   "metadata": {},
   "outputs": [
    {
     "name": "stdout",
     "output_type": "stream",
     "text": [
      "Model: \"sequential\"\n",
      "_________________________________________________________________\n",
      "Layer (type)                 Output Shape              Param #   \n",
      "=================================================================\n",
      "conv2d (Conv2D)              (None, 148, 148, 64)      1792      \n",
      "_________________________________________________________________\n",
      "max_pooling2d (MaxPooling2D) (None, 74, 74, 64)        0         \n",
      "_________________________________________________________________\n",
      "conv2d_1 (Conv2D)            (None, 72, 72, 64)        36928     \n",
      "_________________________________________________________________\n",
      "max_pooling2d_1 (MaxPooling2 (None, 36, 36, 64)        0         \n",
      "_________________________________________________________________\n",
      "conv2d_2 (Conv2D)            (None, 34, 34, 128)       73856     \n",
      "_________________________________________________________________\n",
      "max_pooling2d_2 (MaxPooling2 (None, 17, 17, 128)       0         \n",
      "_________________________________________________________________\n",
      "conv2d_3 (Conv2D)            (None, 15, 15, 128)       147584    \n",
      "_________________________________________________________________\n",
      "max_pooling2d_3 (MaxPooling2 (None, 7, 7, 128)         0         \n",
      "_________________________________________________________________\n",
      "flatten (Flatten)            (None, 6272)              0         \n",
      "_________________________________________________________________\n",
      "dropout (Dropout)            (None, 6272)              0         \n",
      "_________________________________________________________________\n",
      "dense (Dense)                (None, 512)               3211776   \n",
      "_________________________________________________________________\n",
      "dense_1 (Dense)              (None, 3)                 1539      \n",
      "=================================================================\n",
      "Total params: 3,473,475\n",
      "Trainable params: 3,473,475\n",
      "Non-trainable params: 0\n",
      "_________________________________________________________________\n"
     ]
    }
   ],
   "source": [
    "model = tf.keras.models.Sequential([\n",
    "    # Note the input shape is the desired size of the image 150x150 with 3 bytes color\n",
    "    # This is the first convolution\n",
    "    tf.keras.layers.Conv2D(64, (3,3), activation='relu', input_shape=(150, 150, 3)),\n",
    "    tf.keras.layers.MaxPooling2D(2, 2),\n",
    "    # The second convolution\n",
    "    tf.keras.layers.Conv2D(64, (3,3), activation='relu'),\n",
    "    tf.keras.layers.MaxPooling2D(2,2),\n",
    "    # The third convolution\n",
    "    tf.keras.layers.Conv2D(128, (3,3), activation='relu'),\n",
    "    tf.keras.layers.MaxPooling2D(2,2),\n",
    "    # The fourth convolution\n",
    "    tf.keras.layers.Conv2D(128, (3,3), activation='relu'),\n",
    "    tf.keras.layers.MaxPooling2D(2,2),\n",
    "    # Flatten the results to feed into a DNN\n",
    "    tf.keras.layers.Flatten(),\n",
    "    tf.keras.layers.Dropout(0.5),\n",
    "    # 512 neuron hidden layer\n",
    "    tf.keras.layers.Dense(512, activation='relu'),\n",
    "    tf.keras.layers.Dense(3, activation='softmax')\n",
    "])\n",
    "\n",
    "model.summary()\n",
    "\n"
   ]
  },
  {
   "cell_type": "code",
   "execution_count": 9,
   "id": "3cf145f7",
   "metadata": {},
   "outputs": [
    {
     "name": "stdout",
     "output_type": "stream",
     "text": [
      "Epoch 1/25\n",
      " 1/20 [>.............................] - ETA: 11:30 - loss: 1.1046 - accuracy: 0.3182WARNING:tensorflow:Your input ran out of data; interrupting training. Make sure that your dataset or generator can generate at least `steps_per_epoch * epochs` batches (in this case, 500 batches). You may need to use the repeat() function when building your dataset.\n",
      "WARNING:tensorflow:Your input ran out of data; interrupting training. Make sure that your dataset or generator can generate at least `steps_per_epoch * epochs` batches (in this case, 3 batches). You may need to use the repeat() function when building your dataset.\n",
      "20/20 [==============================] - 52s 829ms/step - loss: 1.1046 - accuracy: 0.3182 - val_loss: 1.3774 - val_accuracy: 0.3333\n"
     ]
    }
   ],
   "source": [
    "model.compile(loss = 'categorical_crossentropy', optimizer='rmsprop', metrics=['accuracy'])\n",
    "\n",
    "history = model.fit(train_generator, epochs=25, steps_per_epoch=20, validation_data = validation_generator, verbose = 1, validation_steps=3)\n",
    "\n",
    "model.save(\"rps.h5\")"
   ]
  },
  {
   "cell_type": "code",
   "execution_count": 10,
   "id": "7b94be61",
   "metadata": {},
   "outputs": [
    {
     "data": {
      "image/png": "[encoded data removed]",
      "text/plain": [
       "<Figure size 432x288 with 1 Axes>"
      ]
     },
     "metadata": {
      "needs_background": "light"
     },
     "output_type": "display_data"
    },
    {
     "data": {
      "text/plain": [
       "<Figure size 432x288 with 0 Axes>"
      ]
     },
     "metadata": {},
     "output_type": "display_data"
    }
   ],
   "source": [
    "import matplotlib.pyplot as plt\n",
    "acc = history.history['accuracy']\n",
    "val_acc = history.history['val_accuracy']\n",
    "loss = history.history['loss']\n",
    "val_loss = history.history['val_loss']\n",
    "\n",
    "epochs = range(len(acc))\n",
    "\n",
    "plt.plot(epochs, acc, 'r', label='Training accuracy')\n",
    "plt.plot(epochs, val_acc, 'b', label='Validation accuracy')\n",
    "plt.title('Training and validation accuracy')\n",
    "plt.legend(loc=0)\n",
    "plt.figure()\n",
    "\n",
    "\n",
    "plt.show()"
   ]
  },
  {
   "cell_type": "code",
   "execution_count": 11,
   "id": "a3d9896b",
   "metadata": {},
   "outputs": [
    {
     "name": "stdout",
     "output_type": "stream",
     "text": [
      "[[1. 0. 0.]]\n",
      "[[1. 0. 0.]]\n",
      "[[1. 0. 0.]]\n",
      "[[1. 0. 0.]]\n",
      "[[1. 0. 0.]]\n",
      "[[1. 0. 0.]]\n",
      "[[1. 0. 0.]]\n",
      "[[1. 0. 0.]]\n",
      "[[1. 0. 0.]]\n",
      "[[1. 0. 0.]]\n",
      "[[1. 0. 0.]]\n",
      "[[1. 0. 0.]]\n",
      "[[1. 0. 0.]]\n",
      "[[1. 0. 0.]]\n",
      "[[1. 0. 0.]]\n",
      "[[1. 0. 0.]]\n",
      "[[1. 0. 0.]]\n",
      "[[1. 0. 0.]]\n",
      "[[1. 0. 0.]]\n",
      "[[1. 0. 0.]]\n",
      "[[1. 0. 0.]]\n",
      "[[1. 0. 0.]]\n",
      "[[1. 0. 0.]]\n",
      "[[1. 0. 0.]]\n",
      "[[1. 0. 0.]]\n",
      "[[1. 0. 0.]]\n",
      "[[1. 0. 0.]]\n",
      "[[1. 0. 0.]]\n",
      "[[1. 0. 0.]]\n",
      "[[1. 0. 0.]]\n",
      "[[1. 0. 0.]]\n",
      "[[1. 0. 0.]]\n",
      "[[1. 0. 0.]]\n",
      "[[1. 0. 0.]]\n",
      "[[1. 0. 0.]]\n",
      "[[1. 0. 0.]]\n",
      "[[1. 0. 0.]]\n",
      "[[1. 0. 0.]]\n",
      "[[1. 0. 0.]]\n",
      "[[1. 0. 0.]]\n",
      "[[1. 0. 0.]]\n",
      "[[1. 0. 0.]]\n",
      "[[1. 0. 0.]]\n",
      "[[1. 0. 0.]]\n",
      "[[1. 0. 0.]]\n",
      "[[1. 0. 0.]]\n",
      "[[1. 0. 0.]]\n",
      "[[1. 0. 0.]]\n",
      "[[1. 0. 0.]]\n",
      "[[1. 0. 0.]]\n",
      "[[1. 0. 0.]]\n",
      "[[1. 0. 0.]]\n",
      "[[1. 0. 0.]]\n",
      "[[1. 0. 0.]]\n",
      "[[1. 0. 0.]]\n",
      "[[1. 0. 0.]]\n",
      "[[1. 0. 0.]]\n",
      "[[1. 0. 0.]]\n",
      "[[1. 0. 0.]]\n",
      "[[1. 0. 0.]]\n",
      "[[1. 0. 0.]]\n",
      "[[1. 0. 0.]]\n",
      "[[1. 0. 0.]]\n",
      "[[1. 0. 0.]]\n",
      "[[1. 0. 0.]]\n",
      "[[1. 0. 0.]]\n",
      "[[1. 0. 0.]]\n",
      "[[1. 0. 0.]]\n",
      "[[1. 0. 0.]]\n",
      "[[1. 0. 0.]]\n"
     ]
    }
   ],
   "source": [
    "import numpy as np\n",
    "from keras.preprocessing import image\n",
    "\n",
    "uploaded =\"/home/babyhack/Documents/Project/model/Project/IMG_20210318_135619.jpg\"\n",
    "\n",
    "for fn in uploaded:\n",
    " \n",
    "  # predicting images\n",
    "    path = uploaded\n",
    "    img = image.load_img(path, target_size=(150, 150))\n",
    "    x = image.img_to_array(img)\n",
    "    x = np.expand_dims(x, axis=0)\n",
    "\n",
    "    images = np.vstack([x])\n",
    "    classes = model.predict(images, batch_size=10)\n",
    "#     print(fn)\n",
    "    print(classes)"
   ]
  }
 ],
 "metadata": {
  "kernelspec": {
   "display_name": "Python 3",
   "language": "python",
   "name": "python3"
  },
  "language_info": {
   "codemirror_mode": {
    "name": "ipython",
    "version": 3
   },
   "file_extension": ".py",
   "mimetype": "text/x-python",
   "name": "python",
   "nbconvert_exporter": "python",
   "pygments_lexer": "ipython3",
   "version": "3.8.5"
  }
 },
 "nbformat": 4,
 "nbformat_minor": 5
}
